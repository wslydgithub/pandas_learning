{
 "cells": [
  {
   "metadata": {},
   "cell_type": "markdown",
   "source": [
    "# pandas 学习日记 1\n",
    "## 1.使用pandas创建一个series\n",
    "***series***相当于一个数据表中的一个列，你也可以理解为数据表中的一个属性。"
   ],
   "id": "fb41cf3e706b17e6"
  },
  {
   "cell_type": "code",
   "id": "initial_id",
   "metadata": {
    "collapsed": true,
    "ExecuteTime": {
     "end_time": "2024-09-18T12:44:41.639461Z",
     "start_time": "2024-09-18T12:44:41.633838Z"
    }
   },
   "source": [
    "from operator import truediv\n",
    "\n",
    "import pandas as pd\n",
    "from django.contrib.sitemaps.views import index\n",
    "\n",
    "from library.slice import student\n",
    "\n",
    "# 声明一个列表\n",
    "a=[\"welcome\",\"to\",\"pandas\"]\n",
    "\n",
    "# 创建一个series 每一个series可以简介的理解为一个列\n",
    "s=pd.Series(a)\n",
    "\n",
    "# 打印出这一列,这一列的值,和这一列的索引\n",
    "print(s,s.values,s.index)"
   ],
   "outputs": [
    {
     "name": "stdout",
     "output_type": "stream",
     "text": [
      "0    welcome\n",
      "1         to\n",
      "2     pandas\n",
      "dtype: object ['welcome' 'to' 'pandas'] RangeIndex(start=0, stop=3, step=1)\n"
     ]
    }
   ],
   "execution_count": 3
  },
  {
   "metadata": {},
   "cell_type": "markdown",
   "source": "从运行结果，我们可以看出，当我们建一个***series***的时候，pandas会自动给我们加上index,也就是索引,而且这些索引是从0开始的，series里面的值为values",
   "id": "5992c95cad0ed4e1"
  },
  {
   "metadata": {},
   "cell_type": "code",
   "outputs": [],
   "execution_count": null,
   "source": [
    "# 这个是我们没有自行设置索引，所以pandas给我们做了一个索引，接下来，我们来自行设置索引\n",
    "import  pandas as pd\n",
    "\n",
    "s=pd.Series([1,2,3],index=[1,2,3]) # index是关键词参数，而value不是，所以这里写value=，会报错\n",
    "\n",
    "# dtype是value的值的类型，pandas会自行判断值的类型\n",
    "print(s)\n",
    "\n",
    "# 我们自定义的索引是可以改变的，例如\n",
    "s.index=[\"a\",\"b\",'c'] # index的长度要和value的长度一致，否则也会报错\n",
    "\n",
    "print(s)\n"
   ],
   "id": "fbfefe94e15dc1ca"
  },
  {
   "metadata": {},
   "cell_type": "markdown",
   "source": [
    "## 2.使用pandas对series中的值进行访问。\n",
    "在pandas中，对于series中的值进行筛选和访问一般是通过索引，当然你也可以构建bool表达式来进行筛选，可以看以下的代码。"
   ],
   "id": "e58683721cd043e2"
  },
  {
   "metadata": {
    "ExecuteTime": {
     "end_time": "2024-09-18T13:20:35.400213Z",
     "start_time": "2024-09-18T13:20:35.394609Z"
    }
   },
   "cell_type": "code",
   "source": [
    "import pandas as pd\n",
    "\n",
    "# 定义一个series\n",
    "s=pd.Series(['a','b','c'],index=[1,2,3])\n",
    "\n",
    "# 第一种方法：使用索引进行访问单个value\n",
    "print(s[1],s[2],s[3])\n",
    "\n",
    "# 第二种方法：使用索引进行多个访问\n",
    "# 先构建出一个对应的列表，列表的元素是我们要返回的值的index\n",
    "print(s[[1,2,3]])\n",
    "\n",
    "# 第三种方法：使用bool表达式来进行访问\n",
    "\n",
    "# 流程：\n",
    "# 1.构建一个bool表达式 s==\"a\"\n",
    "print(s==\"a\") # 这个bool表达式的值不是单纯的true或者false而是一个series,这个series包括index以及其对应的bool\n",
    "\n",
    "# 2.将其与s结合，筛选出符合条件的value\n",
    "print(s[s==\"a\"])"
   ],
   "id": "ee865d161de56cf6",
   "outputs": [
    {
     "name": "stdout",
     "output_type": "stream",
     "text": [
      "a b c\n",
      "1    a\n",
      "2    b\n",
      "3    c\n",
      "dtype: object\n",
      "1     True\n",
      "2    False\n",
      "3    False\n",
      "dtype: bool\n",
      "1    a\n",
      "dtype: object\n"
     ]
    }
   ],
   "execution_count": 15
  },
  {
   "metadata": {},
   "cell_type": "markdown",
   "source": "这里忽略了一个事情，就是当你在s[]中，传入的是单个index，则返回的是单个值，如果你传入的是一个list,返回的是一个series。",
   "id": "34e678c79ceb859a"
  },
  {
   "metadata": {
    "ExecuteTime": {
     "end_time": "2024-09-18T13:27:20.855687Z",
     "start_time": "2024-09-18T13:27:20.844085Z"
    }
   },
   "cell_type": "code",
   "source": [
    "# 这是一个练习\n",
    "\n",
    "import pandas as pd\n",
    "s=pd.Series([4,-3,1,6],index=[\"a\",\"b\",\"c\",\"d\"])\n",
    "\n",
    "# 构建bool表达式\n",
    "even=(s%2==0)\n",
    "\n",
    "print(even)\n",
    "\n",
    "print(s[even])"
   ],
   "id": "2436762705b090a5",
   "outputs": [
    {
     "name": "stdout",
     "output_type": "stream",
     "text": [
      "a     True\n",
      "b    False\n",
      "c    False\n",
      "d     True\n",
      "dtype: bool\n",
      "a    4\n",
      "d    6\n",
      "dtype: int64\n"
     ]
    }
   ],
   "execution_count": 17
  },
  {
   "metadata": {},
   "cell_type": "markdown",
   "source": [
    "## 3.dataframe\n",
    "dataframe(类似与数据库中的表)，可以理解为多个series的连接，共用一个index，最终组成一个表格。创建的demo如下："
   ],
   "id": "78156feecdb6790c"
  },
  {
   "metadata": {
    "ExecuteTime": {
     "end_time": "2024-09-18T13:52:45.097989Z",
     "start_time": "2024-09-18T13:52:45.028992Z"
    }
   },
   "cell_type": "code",
   "source": [
    "import pandas as pd\n",
    "\n",
    "# 创建的格式 pandas.DataFrame(data,index,columns)\n",
    "# 一定注意，第一列的index是不要属性名的\n",
    "table=pd.DataFrame([1,2,3],index=[\"0\",\"1\",\"2\"],columns=[\"value\"])\n",
    "\n",
    "print(table)\n",
    "\n",
    "# 两列\n",
    "table2=pd.DataFrame([[1,\"one\",1],[2,\"two\",2]],columns=[\"number\",\"description\",\"ID\"])\n",
    "print(table2)"
   ],
   "id": "57017f0ab3ad5f9",
   "outputs": [
    {
     "name": "stdout",
     "output_type": "stream",
     "text": [
      "   value\n",
      "0      1\n",
      "1      2\n",
      "2      3\n",
      "   number description  ID\n",
      "0       1         one   1\n",
      "1       2         two   2\n"
     ]
    }
   ],
   "execution_count": 38
  },
  {
   "metadata": {},
   "cell_type": "markdown",
   "source": "当然，你可以从文件中读取数据，比如csv,excel等等",
   "id": "da5905ab9ca1a376"
  },
  {
   "metadata": {
    "ExecuteTime": {
     "end_time": "2024-09-18T13:46:14.976979Z",
     "start_time": "2024-09-18T13:46:14.953277Z"
    }
   },
   "cell_type": "code",
   "source": [
    "import pandas as pd\n",
    "# 文件名，索引列\n",
    "s=pd.read_excel(\"example.xlsx\",index_col=\" \")\n",
    "\n",
    "# 直接对s修改，否则s不变\n",
    "s=s.reset_index(inplace=True)\n",
    "print(s)"
   ],
   "id": "30649b518354bba2",
   "outputs": [
    {
     "ename": "ValueError",
     "evalue": "Excel file format cannot be determined, you must specify an engine manually.",
     "output_type": "error",
     "traceback": [
      "\u001B[1;31m---------------------------------------------------------------------------\u001B[0m",
      "\u001B[1;31mValueError\u001B[0m                                Traceback (most recent call last)",
      "Cell \u001B[1;32mIn[35], line 3\u001B[0m\n\u001B[0;32m      1\u001B[0m \u001B[38;5;28;01mimport\u001B[39;00m \u001B[38;5;21;01mpandas\u001B[39;00m \u001B[38;5;28;01mas\u001B[39;00m \u001B[38;5;21;01mpd\u001B[39;00m\n\u001B[1;32m----> 3\u001B[0m s\u001B[38;5;241m=\u001B[39m\u001B[43mpd\u001B[49m\u001B[38;5;241;43m.\u001B[39;49m\u001B[43mread_excel\u001B[49m\u001B[43m(\u001B[49m\u001B[38;5;124;43m\"\u001B[39;49m\u001B[38;5;124;43mexample.xlsx\u001B[39;49m\u001B[38;5;124;43m\"\u001B[39;49m\u001B[43m)\u001B[49m\n\u001B[0;32m      5\u001B[0m \u001B[38;5;28mprint\u001B[39m(s)\n",
      "File \u001B[1;32mD:\\python code\\venv\\Lib\\site-packages\\pandas\\io\\excel\\_base.py:495\u001B[0m, in \u001B[0;36mread_excel\u001B[1;34m(io, sheet_name, header, names, index_col, usecols, dtype, engine, converters, true_values, false_values, skiprows, nrows, na_values, keep_default_na, na_filter, verbose, parse_dates, date_parser, date_format, thousands, decimal, comment, skipfooter, storage_options, dtype_backend, engine_kwargs)\u001B[0m\n\u001B[0;32m    493\u001B[0m \u001B[38;5;28;01mif\u001B[39;00m \u001B[38;5;129;01mnot\u001B[39;00m \u001B[38;5;28misinstance\u001B[39m(io, ExcelFile):\n\u001B[0;32m    494\u001B[0m     should_close \u001B[38;5;241m=\u001B[39m \u001B[38;5;28;01mTrue\u001B[39;00m\n\u001B[1;32m--> 495\u001B[0m     io \u001B[38;5;241m=\u001B[39m \u001B[43mExcelFile\u001B[49m\u001B[43m(\u001B[49m\n\u001B[0;32m    496\u001B[0m \u001B[43m        \u001B[49m\u001B[43mio\u001B[49m\u001B[43m,\u001B[49m\n\u001B[0;32m    497\u001B[0m \u001B[43m        \u001B[49m\u001B[43mstorage_options\u001B[49m\u001B[38;5;241;43m=\u001B[39;49m\u001B[43mstorage_options\u001B[49m\u001B[43m,\u001B[49m\n\u001B[0;32m    498\u001B[0m \u001B[43m        \u001B[49m\u001B[43mengine\u001B[49m\u001B[38;5;241;43m=\u001B[39;49m\u001B[43mengine\u001B[49m\u001B[43m,\u001B[49m\n\u001B[0;32m    499\u001B[0m \u001B[43m        \u001B[49m\u001B[43mengine_kwargs\u001B[49m\u001B[38;5;241;43m=\u001B[39;49m\u001B[43mengine_kwargs\u001B[49m\u001B[43m,\u001B[49m\n\u001B[0;32m    500\u001B[0m \u001B[43m    \u001B[49m\u001B[43m)\u001B[49m\n\u001B[0;32m    501\u001B[0m \u001B[38;5;28;01melif\u001B[39;00m engine \u001B[38;5;129;01mand\u001B[39;00m engine \u001B[38;5;241m!=\u001B[39m io\u001B[38;5;241m.\u001B[39mengine:\n\u001B[0;32m    502\u001B[0m     \u001B[38;5;28;01mraise\u001B[39;00m \u001B[38;5;167;01mValueError\u001B[39;00m(\n\u001B[0;32m    503\u001B[0m         \u001B[38;5;124m\"\u001B[39m\u001B[38;5;124mEngine should not be specified when passing \u001B[39m\u001B[38;5;124m\"\u001B[39m\n\u001B[0;32m    504\u001B[0m         \u001B[38;5;124m\"\u001B[39m\u001B[38;5;124man ExcelFile - ExcelFile already has the engine set\u001B[39m\u001B[38;5;124m\"\u001B[39m\n\u001B[0;32m    505\u001B[0m     )\n",
      "File \u001B[1;32mD:\\python code\\venv\\Lib\\site-packages\\pandas\\io\\excel\\_base.py:1554\u001B[0m, in \u001B[0;36mExcelFile.__init__\u001B[1;34m(self, path_or_buffer, engine, storage_options, engine_kwargs)\u001B[0m\n\u001B[0;32m   1550\u001B[0m     ext \u001B[38;5;241m=\u001B[39m inspect_excel_format(\n\u001B[0;32m   1551\u001B[0m         content_or_path\u001B[38;5;241m=\u001B[39mpath_or_buffer, storage_options\u001B[38;5;241m=\u001B[39mstorage_options\n\u001B[0;32m   1552\u001B[0m     )\n\u001B[0;32m   1553\u001B[0m     \u001B[38;5;28;01mif\u001B[39;00m ext \u001B[38;5;129;01mis\u001B[39;00m \u001B[38;5;28;01mNone\u001B[39;00m:\n\u001B[1;32m-> 1554\u001B[0m         \u001B[38;5;28;01mraise\u001B[39;00m \u001B[38;5;167;01mValueError\u001B[39;00m(\n\u001B[0;32m   1555\u001B[0m             \u001B[38;5;124m\"\u001B[39m\u001B[38;5;124mExcel file format cannot be determined, you must specify \u001B[39m\u001B[38;5;124m\"\u001B[39m\n\u001B[0;32m   1556\u001B[0m             \u001B[38;5;124m\"\u001B[39m\u001B[38;5;124man engine manually.\u001B[39m\u001B[38;5;124m\"\u001B[39m\n\u001B[0;32m   1557\u001B[0m         )\n\u001B[0;32m   1559\u001B[0m engine \u001B[38;5;241m=\u001B[39m config\u001B[38;5;241m.\u001B[39mget_option(\u001B[38;5;124mf\u001B[39m\u001B[38;5;124m\"\u001B[39m\u001B[38;5;124mio.excel.\u001B[39m\u001B[38;5;132;01m{\u001B[39;00mext\u001B[38;5;132;01m}\u001B[39;00m\u001B[38;5;124m.reader\u001B[39m\u001B[38;5;124m\"\u001B[39m, silent\u001B[38;5;241m=\u001B[39m\u001B[38;5;28;01mTrue\u001B[39;00m)\n\u001B[0;32m   1560\u001B[0m \u001B[38;5;28;01mif\u001B[39;00m engine \u001B[38;5;241m==\u001B[39m \u001B[38;5;124m\"\u001B[39m\u001B[38;5;124mauto\u001B[39m\u001B[38;5;124m\"\u001B[39m:\n",
      "\u001B[1;31mValueError\u001B[0m: Excel file format cannot be determined, you must specify an engine manually."
     ]
    }
   ],
   "execution_count": 35
  },
  {
   "metadata": {},
   "cell_type": "markdown",
   "source": "从字典中创建dataframe,demo如下",
   "id": "c3290f2d06c8d6e4"
  },
  {
   "metadata": {
    "ExecuteTime": {
     "end_time": "2024-09-18T13:56:34.104895Z",
     "start_time": "2024-09-18T13:56:34.092062Z"
    }
   },
   "cell_type": "code",
   "source": [
    "import pandas as pd\n",
    "\n",
    "student=pd.DataFrame({\"Name\":[\"charlie\",\"tom\"],\"ID\":[1,2]})\n",
    "\n",
    "print(student)\n",
    "\n",
    "# 或者\n",
    "student1=pd.DataFrame([{\"Name\":\"charlie\",\"ID\":\"1\"}])\n",
    "\n",
    "print(student1)"
   ],
   "id": "39815fe3a4fb02ee",
   "outputs": [
    {
     "name": "stdout",
     "output_type": "stream",
     "text": [
      "      Name  ID\n",
      "0  charlie   1\n",
      "1      tom   2\n",
      "      Name ID\n",
      "0  charlie  1\n"
     ]
    }
   ],
   "execution_count": 40
  },
  {
   "metadata": {},
   "cell_type": "markdown",
   "source": "还可以使用series拼接为一个dataframe,前提是index要可以共享。",
   "id": "ba1dd69abd1e9c9e"
  },
  {
   "metadata": {
    "ExecuteTime": {
     "end_time": "2024-09-18T13:58:42.570598Z",
     "start_time": "2024-09-18T13:58:42.564264Z"
    }
   },
   "cell_type": "code",
   "source": [
    "import pandas as pd\n",
    "\n",
    "s1=pd.Series([1,2,3])\n",
    "\n",
    "s2=pd.Series([\"charlie\",\"tom\",\"alien\"])\n",
    "\n",
    "dataframe1=pd.DataFrame({\"ID\":s1,\"Name\":s2})\n",
    "\n",
    "print(dataframe1)"
   ],
   "id": "b00f6bca75f6d4e2",
   "outputs": [
    {
     "name": "stdout",
     "output_type": "stream",
     "text": [
      "   ID     Name\n",
      "0   1  charlie\n",
      "1   2      tom\n",
      "2   3    alien\n"
     ]
    }
   ],
   "execution_count": 41
  },
  {
   "metadata": {},
   "cell_type": "markdown",
   "source": [
    "***小tip:***\n",
    "这个series中的index和数据表里的主键有关系但也有不同，比如index可以命名，也可以出现重复，但是每一列的名字不能重复，这个是唯一的。"
   ],
   "id": "e755540e7e26147e"
  },
  {
   "metadata": {},
   "cell_type": "markdown",
   "source": [
    "访问列名 Dataframe.columns\n",
    "访问行名 Dataframe.index\n",
    "访问大小 Dataframe.shape 得到的是(行数，列数)"
   ],
   "id": "5ba0b337e1a62bed"
  },
  {
   "metadata": {
    "ExecuteTime": {
     "end_time": "2024-09-18T14:12:18.416173Z",
     "start_time": "2024-09-18T14:12:18.408482Z"
    }
   },
   "cell_type": "code",
   "source": [
    "import pandas as pd\n",
    "\n",
    "s1=pd.Series([1,2,3])\n",
    "\n",
    "s2=pd.Series([\"charlie\",\"tom\",\"alien\"])\n",
    "\n",
    "dataframe1=pd.DataFrame({\"ID\":s1,\"Name\":s2})\n",
    "\n",
    "# 取头\n",
    "print(dataframe1.head(1))\n",
    "\n",
    "# 取尾\n",
    "print(dataframe1.tail(1))\n",
    "print(dataframe1)"
   ],
   "id": "d8d3c86009b30007",
   "outputs": [
    {
     "name": "stdout",
     "output_type": "stream",
     "text": [
      "   ID     Name\n",
      "0   1  charlie\n",
      "   ID   Name\n",
      "2   3  alien\n",
      "   ID     Name\n",
      "0   1  charlie\n",
      "1   2      tom\n",
      "2   3    alien\n"
     ]
    }
   ],
   "execution_count": 42
  },
  {
   "metadata": {},
   "cell_type": "markdown",
   "source": "loc方法：定位df中数据的一个函数",
   "id": "5352eb4090495cf4"
  },
  {
   "metadata": {
    "ExecuteTime": {
     "end_time": "2024-09-18T14:20:37.313415Z",
     "start_time": "2024-09-18T14:20:37.301026Z"
    }
   },
   "cell_type": "code",
   "source": [
    "import pandas as pd\n",
    "\n",
    "s1=pd.Series([1,2,3])\n",
    "\n",
    "s2=pd.Series([\"charlie\",\"tom\",\"alien\"])\n",
    "\n",
    "dataframe1=pd.DataFrame({\"ID\":s1,\"Name\":s2})\n",
    "# loc[行，列](这个传入的是名称)\n",
    "# 第一种:传递列表\n",
    "print(dataframe1.loc[[0,1],[\"Name\"]])\n",
    "\n",
    "# 第二种:切片,这个切片的写法还是要注意一下\n",
    "print(dataframe1.loc[[0,1],\"ID\":\"Name\"])\n",
    "\n",
    "# 第三种:传入单个值\n",
    "print(dataframe1.loc[0,\"Name\"])\n",
    "print(dataframe1)"
   ],
   "id": "7d38d581630cc98c",
   "outputs": [
    {
     "name": "stdout",
     "output_type": "stream",
     "text": [
      "      Name\n",
      "0  charlie\n",
      "1      tom\n",
      "   ID     Name\n",
      "0   1  charlie\n",
      "1   2      tom\n",
      "charlie\n",
      "   ID     Name\n",
      "0   1  charlie\n",
      "1   2      tom\n",
      "2   3    alien\n"
     ]
    }
   ],
   "execution_count": 47
  },
  {
   "metadata": {},
   "cell_type": "markdown",
   "source": "df.iloc(行，列)这个传入的是行的值(1，2这种),和列的值",
   "id": "23a2c738d2c59e38"
  },
  {
   "metadata": {
    "ExecuteTime": {
     "end_time": "2024-09-18T14:25:03.075026Z",
     "start_time": "2024-09-18T14:25:03.069348Z"
    }
   },
   "cell_type": "code",
   "source": [
    "import pandas as pd\n",
    "\n",
    "s1=pd.Series([1,2,3])\n",
    "\n",
    "s2=pd.Series([\"charlie\",\"tom\",\"alien\"])\n",
    "\n",
    "dataframe1=pd.DataFrame({\"ID\":s1,\"Name\":s2})\n",
    "# loc[行，列](这个传入的是名称)\n",
    "# 第一种:传递列表\n",
    "print(dataframe1.iloc[[0,1],[0]])\n",
    "\n",
    "# 第二种:切片,这个切片的写法还是要注意一下\n",
    "print(dataframe1.iloc[[0,1],0:1])\n",
    "\n",
    "# 第三种:传入单个值\n",
    "print(dataframe1.iloc[0,1])\n",
    "print(dataframe1)"
   ],
   "id": "c4434defcea689e",
   "outputs": [
    {
     "name": "stdout",
     "output_type": "stream",
     "text": [
      "   ID\n",
      "0   1\n",
      "1   2\n",
      "   ID\n",
      "0   1\n",
      "1   2\n",
      "charlie\n",
      "   ID     Name\n",
      "0   1  charlie\n",
      "1   2      tom\n",
      "2   3    alien\n"
     ]
    }
   ],
   "execution_count": 55
  }
 ],
 "metadata": {
  "kernelspec": {
   "display_name": "Python 3",
   "language": "python",
   "name": "python3"
  },
  "language_info": {
   "codemirror_mode": {
    "name": "ipython",
    "version": 2
   },
   "file_extension": ".py",
   "mimetype": "text/x-python",
   "name": "python",
   "nbconvert_exporter": "python",
   "pygments_lexer": "ipython2",
   "version": "2.7.6"
  }
 },
 "nbformat": 4,
 "nbformat_minor": 5
}
