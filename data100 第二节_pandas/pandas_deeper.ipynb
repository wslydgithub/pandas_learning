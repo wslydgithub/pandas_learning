{
 "cells": [
  {
   "metadata": {},
   "cell_type": "markdown",
   "source": "# data100 第三节 pandas",
   "id": "3fccd5760a504bcd"
  },
  {
   "metadata": {},
   "cell_type": "markdown",
   "source": [
    "## 1.loc和iloc的对比\n",
    "loc 是基于标签的，也就是当你使用loc的时候，总是传入的是dataframe的标签(表名)。\n",
    "iloc 是基于行数或者列数来进行的，也就是当你使用iloc的时候，总是传入的是dataframe的行数或者列数。\n",
    "\n",
    "但是大多数时间你会选用.loc\n",
    "1. 在进行数据的处理的时候，经常会移动数据的位置，而此时使用.iloc不方便且不安全，而.loc则不受影响。\n",
    "2. 除此之外，如果你在demo中使用.iloc，会使你的代码的可读性下降，毕竟我们都希望看到的是能看懂的英文或中文，而不是单独的行数和列数。\n",
    "\n",
    "但是并不意味着.iloc没用，比如\n",
    "当你要获取一个dataframe中第一个row或者最后一个row的时候，你就可以使用.iloc。\n",
    "\n",
    "今天，我们将介绍一个介于.iloc和.loc之间的一种提取方法，下面是例子"
   ],
   "id": "baf3b099ba3e6b5b"
  },
  {
   "metadata": {
    "ExecuteTime": {
     "end_time": "2024-09-20T09:24:16.788886Z",
     "start_time": "2024-09-20T09:24:16.780242Z"
    }
   },
   "cell_type": "code",
   "source": [
    "import pandas as pd\n",
    "from django.db.models.signals import pre_init\n",
    "\n",
    "s1=pd.Series([1,2,3])\n",
    "\n",
    "s2=pd.Series([\"charlie\",\"tom\",\"alien\"])\n",
    "\n",
    "s3=pd.Series([\"男\",\"男\",\"女\"])\n",
    "\n",
    "dataframe1=pd.DataFrame({\"ID\":s1,\"Name\":s2,\"Sex\":s3})\n",
    "\n",
    "print(dataframe1)\n",
    "# 采用文本筛选的方式\n",
    "\n",
    "print(dataframe1[0:1])\n",
    "\n",
    "print(dataframe1[\"Name\"])\n",
    "\n",
    "print(dataframe1[[\"ID\",\"Sex\"]])\n"
   ],
   "id": "679243905c940322",
   "outputs": [
    {
     "name": "stdout",
     "output_type": "stream",
     "text": [
      "   ID     Name Sex\n",
      "0   1  charlie   男\n",
      "1   2      tom   男\n",
      "2   3    alien   女\n",
      "   ID     Name Sex\n",
      "0   1  charlie   男\n",
      "0    charlie\n",
      "1        tom\n",
      "2      alien\n",
      "Name: Name, dtype: object\n",
      "   ID Sex\n",
      "0   1   男\n",
      "1   2   男\n",
      "2   3   女\n"
     ]
    }
   ],
   "execution_count": 5
  },
  {
   "metadata": {},
   "cell_type": "markdown",
   "source": [
    "从上面的demo，我们可以看出这个新的提取方法的基本模式\n",
    "dataframeName[],在这个[]中只能接受一个参数，可以是单个值，也可以是一个列表[].\n",
    "该种方法的特点是：每次只对行或者列其中一个进行筛选，传入的是行的index和列的column的名字。\n",
    "\n",
    "那好的接下来出一个棘手的难题"
   ],
   "id": "931767700813f09a"
  },
  {
   "metadata": {
    "ExecuteTime": {
     "end_time": "2024-09-20T09:28:09.410875Z",
     "start_time": "2024-09-20T09:28:09.404289Z"
    }
   },
   "cell_type": "code",
   "source": [
    "import pandas as pd\n",
    "\n",
    "weired=pd.DataFrame({1:[\"1.1\",\"1.2\"],\"1\":[\"2.1\",\"2.2\"]})\n",
    "\n",
    "print(weired)\n",
    "\n",
    "print(weired[1])\n",
    "\n",
    "print(weired[\"1\"])\n",
    "\n",
    "print(weired[1:])"
   ],
   "id": "b7b7d926a7084691",
   "outputs": [
    {
     "name": "stdout",
     "output_type": "stream",
     "text": [
      "     1    1\n",
      "0  1.1  2.1\n",
      "1  1.2  2.2\n",
      "0    1.1\n",
      "1    1.2\n",
      "Name: 1, dtype: object\n",
      "0    2.1\n",
      "1    2.2\n",
      "Name: 1, dtype: object\n",
      "     1    1\n",
      "1  1.2  2.2\n"
     ]
    }
   ],
   "execution_count": 6
  },
  {
   "metadata": {},
   "cell_type": "markdown",
   "source": [
    "好的解释一下，当使用这种方式来进行提取时，如果传入的是一个值，或者一个列表，则按照column来提取，pandas会将其按照column名处理，如果是一个切片，则按照row的index来处理。\n",
    "这种处理方法的好处就是写代码的时候比较快。"
   ],
   "id": "cde384ff75842b2f"
  },
  {
   "metadata": {},
   "cell_type": "markdown",
   "source": [
    "## conditional selection 条件选择\n",
    "第一步：构建bool的列表\n",
    "\n",
    "第二步：将bool的series与dataframe进行匹配，可以使用[]也可以使用loc\n",
    "### 1.第一种手动创建bool的切片"
   ],
   "id": "b75ce6c95694c278"
  },
  {
   "metadata": {
    "ExecuteTime": {
     "end_time": "2024-09-20T09:43:39.691300Z",
     "start_time": "2024-09-20T09:43:39.684640Z"
    }
   },
   "cell_type": "code",
   "source": [
    "import pandas as pd\n",
    "\n",
    "s1=pd.Series([1,2,3])\n",
    "\n",
    "s2=pd.Series([\"charlie\",\"tom\",\"alien\"])\n",
    "\n",
    "s3=pd.Series([\"男\",\"男\",\"女\"])\n",
    "\n",
    "dataframe1=pd.DataFrame({\"ID\":s1,\"Name\":s2,\"Sex\":s3})\n",
    "\n",
    "print(dataframe1)\n",
    "\n",
    "print(dataframe1[[True,False,True]])\n",
    "\n",
    "print(dataframe1.loc[[True,False,True],:])"
   ],
   "id": "1ae7c515887cf9d4",
   "outputs": [
    {
     "name": "stdout",
     "output_type": "stream",
     "text": [
      "   ID     Name Sex\n",
      "0   1  charlie   男\n",
      "1   2      tom   男\n",
      "2   3    alien   女\n",
      "   ID     Name Sex\n",
      "0   1  charlie   男\n",
      "2   3    alien   女\n",
      "   ID     Name Sex\n",
      "0   1  charlie   男\n",
      "2   3    alien   女\n"
     ]
    }
   ],
   "execution_count": 8
  },
  {
   "metadata": {},
   "cell_type": "markdown",
   "source": "### 2.构建bool表达式",
   "id": "de380728fefac58a"
  },
  {
   "metadata": {
    "ExecuteTime": {
     "end_time": "2024-09-20T10:05:50.097405Z",
     "start_time": "2024-09-20T10:05:50.092130Z"
    }
   },
   "cell_type": "code",
   "source": [
    "import pandas as pd\n",
    "\n",
    "s1=pd.Series([1,2,3])\n",
    "\n",
    "s2=pd.Series([\"charlie\",\"tom\",\"alien\"])\n",
    "\n",
    "s3=pd.Series([\"男\",\"男\",\"女\"])\n",
    "\n",
    "dataframe1=pd.DataFrame({\"ID\":s1,\"Name\":s2,\"Sex\":s3})\n",
    "\n",
    "print(dataframe1[dataframe1[\"Sex\"]==\"男\"])\n"
   ],
   "id": "6ed85b35bfe396be",
   "outputs": [
    {
     "name": "stdout",
     "output_type": "stream",
     "text": [
      "   ID     Name Sex\n",
      "0   1  charlie   男\n",
      "1   2      tom   男\n"
     ]
    }
   ],
   "execution_count": 11
  },
  {
   "metadata": {},
   "cell_type": "markdown",
   "source": [
    "如果你要结合多个bool表达式，你要使用连接符，在pandas里面的连接符和py里面不一样，py是and和or，而pandas里面是&和|,而~代表取反，^这个代表其中一个是true\n",
    "### pandas的效用函数\n",
    "#### .isin()\n",
    "这个是判断这一个column中的值是否在列表中.\n",
    "例子："
   ],
   "id": "6d7bfdd71ffb59be"
  },
  {
   "metadata": {
    "ExecuteTime": {
     "end_time": "2024-09-20T11:33:20.264653Z",
     "start_time": "2024-09-20T11:33:20.259192Z"
    }
   },
   "cell_type": "code",
   "source": [
    "import pandas as pd\n",
    "\n",
    "s1=pd.Series([1,2,3])\n",
    "\n",
    "s2=pd.Series([\"charlie\",\"tom\",\"alien\"])\n",
    "\n",
    "s3=pd.Series([\"男\",\"男\",\"女\"])\n",
    "\n",
    "dataframe1=pd.DataFrame({\"ID\":s1,\"Name\":s2,\"Sex\":s3})\n",
    "\n",
    "names=[\"charlie\",\"tom\"]\n",
    "\n",
    "print(dataframe1[dataframe1[\"Name\"].isin(names)])"
   ],
   "id": "37f95d7b8bf0928e",
   "outputs": [
    {
     "name": "stdout",
     "output_type": "stream",
     "text": [
      "   ID     Name Sex\n",
      "0   1  charlie   男\n",
      "1   2      tom   男\n"
     ]
    }
   ],
   "execution_count": 13
  },
  {
   "metadata": {},
   "cell_type": "markdown",
   "source": [
    "#### .str.startswith()\n",
    "这个是判断一个column中是否含有以()中字母为开头的值，并将其输出"
   ],
   "id": "88b247be1e01202b"
  },
  {
   "metadata": {
    "ExecuteTime": {
     "end_time": "2024-09-20T11:37:05.490322Z",
     "start_time": "2024-09-20T11:37:05.485020Z"
    }
   },
   "cell_type": "code",
   "source": [
    "import pandas as pd\n",
    "\n",
    "s1=pd.Series([1,2,3])\n",
    "\n",
    "s2=pd.Series([\"charlie\",\"tom\",\"alien\"])\n",
    "\n",
    "s3=pd.Series([\"男\",\"男\",\"女\"])\n",
    "\n",
    "dataframe1=pd.DataFrame({\"ID\":s1,\"Name\":s2,\"Sex\":s3})\n",
    "\n",
    "names=[\"charlie\",\"tom\"]\n",
    "\n",
    "print(dataframe1[dataframe1[\"Name\"].str.startswith(\"c\")])"
   ],
   "id": "d2311d4260f24924",
   "outputs": [
    {
     "name": "stdout",
     "output_type": "stream",
     "text": [
      "   ID     Name Sex\n",
      "0   1  charlie   男\n"
     ]
    }
   ],
   "execution_count": 15
  },
  {
   "metadata": {},
   "cell_type": "markdown",
   "source": "## column的加减\n",
   "id": "6c3d85b3e75ed4fb"
  },
  {
   "metadata": {},
   "cell_type": "markdown",
   "source": [
    "### 增加一个column\n",
    "1.直接使用[]来添加\n",
    "\n",
    "***注意***：这是有一定要求的，添加时要注意属性名不能与之前的重复，其次要注意长度和之前的一致"
   ],
   "id": "11b4b91c2c6490a9"
  },
  {
   "metadata": {
    "ExecuteTime": {
     "end_time": "2024-09-20T11:42:48.493505Z",
     "start_time": "2024-09-20T11:42:48.486283Z"
    }
   },
   "cell_type": "code",
   "source": [
    "import pandas as pd\n",
    "\n",
    "s1=pd.Series([1,2,3])\n",
    "\n",
    "s2=pd.Series([\"charlie\",\"tom\",\"alien\"])\n",
    "\n",
    "s3=pd.Series([\"男\",\"男\",\"女\"])\n",
    "\n",
    "dataframe1=pd.DataFrame({\"ID\":s1,\"Name\":s2,\"Sex\":s3})\n",
    "# 这个函数是获取df中Name列中各个值的长度，并形成一个series\n",
    "name_length=dataframe1[\"Name\"].str.len()\n",
    "\n",
    "print(name_length)\n",
    "dataframe1[\"name_length\"]=name_length\n",
    "# 直接使用[]添加\n",
    "print(dataframe1)"
   ],
   "id": "c6737dfb4d7ab344",
   "outputs": [
    {
     "name": "stdout",
     "output_type": "stream",
     "text": [
      "0    7\n",
      "1    3\n",
      "2    5\n",
      "Name: Name, dtype: int64\n",
      "   ID     Name Sex  name_length\n",
      "0   1  charlie   男            7\n",
      "1   2      tom   男            3\n",
      "2   3    alien   女            5\n"
     ]
    }
   ],
   "execution_count": 17
  },
  {
   "metadata": {},
   "cell_type": "markdown",
   "source": [
    "### 重新命名列\n",
    "***.rename方法：***\n",
    "\n",
    "例子：\n",
    "\n"
   ],
   "id": "8ebf780a724428eb"
  },
  {
   "metadata": {
    "ExecuteTime": {
     "end_time": "2024-09-20T11:48:40.391932Z",
     "start_time": "2024-09-20T11:48:40.383077Z"
    }
   },
   "cell_type": "code",
   "source": [
    "import pandas as pd\n",
    "\n",
    "s1=pd.Series([1,2,3])\n",
    "\n",
    "s2=pd.Series([\"charlie\",\"tom\",\"alien\"])\n",
    "\n",
    "s3=pd.Series([\"男\",\"男\",\"女\"])\n",
    "\n",
    "dataframe1=pd.DataFrame({\"ID\":s1,\"Name\":s2,\"Sex\":s3})\n",
    "# 这个函数是获取df中Name列中各个值的长度，并形成一个series\n",
    "name_length=dataframe1[\"Name\"].str.len()\n",
    "\n",
    "print(name_length)\n",
    "dataframe1[\"name_length\"]=name_length\n",
    "# 直接使用[]添加\n",
    "print(dataframe1)\n",
    "\n",
    "# 改变名称\n",
    "dataframe1=dataframe1.rename(columns={\"name_length\":\"NL\"})\n",
    "\n",
    "print(dataframe1)"
   ],
   "id": "51905d04ac4826fd",
   "outputs": [
    {
     "name": "stdout",
     "output_type": "stream",
     "text": [
      "0    7\n",
      "1    3\n",
      "2    5\n",
      "Name: Name, dtype: int64\n",
      "   ID     Name Sex  name_length\n",
      "0   1  charlie   男            7\n",
      "1   2      tom   男            3\n",
      "2   3    alien   女            5\n",
      "   ID     Name Sex  NL\n",
      "0   1  charlie   男   7\n",
      "1   2      tom   男   3\n",
      "2   3    alien   女   5\n"
     ]
    }
   ],
   "execution_count": 18
  },
  {
   "metadata": {},
   "cell_type": "markdown",
   "source": [
    "### 删除\n",
    "\n",
    "***.drop()方法：***\n",
    "\n",
    "_.drop(<name>,axis=\"columns\")\n",
    "\n",
    "axis是指的是行还是列，如果不写一般是删除行，列的话要注意对axis的赋值。\n"
   ],
   "id": "fe34a9a621f3c5bf"
  },
  {
   "metadata": {
    "ExecuteTime": {
     "end_time": "2024-09-20T11:52:03.679138Z",
     "start_time": "2024-09-20T11:52:03.669652Z"
    }
   },
   "cell_type": "code",
   "source": [
    "import pandas as pd\n",
    "\n",
    "s1=pd.Series([1,2,3])\n",
    "\n",
    "s2=pd.Series([\"charlie\",\"tom\",\"alien\"])\n",
    "\n",
    "s3=pd.Series([\"男\",\"男\",\"女\"])\n",
    "\n",
    "dataframe1=pd.DataFrame({\"ID\":s1,\"Name\":s2,\"Sex\":s3})\n",
    "# 这个函数是获取df中Name列中各个值的长度，并形成一个series\n",
    "name_length=dataframe1[\"Name\"].str.len()\n",
    "\n",
    "print(name_length)\n",
    "dataframe1[\"name_length\"]=name_length\n",
    "# 直接使用[]添加\n",
    "print(dataframe1)\n",
    "\n",
    "# 改变名称\n",
    "dataframe1=dataframe1.rename(columns={\"name_length\":\"NL\"})\n",
    "\n",
    "print(dataframe1)\n",
    "\n",
    "dataframe1=dataframe1.drop(\"NL\",axis=\"columns\")\n",
    "\n",
    "print(dataframe1)"
   ],
   "id": "b3c0159b5112f17c",
   "outputs": [
    {
     "name": "stdout",
     "output_type": "stream",
     "text": [
      "0    7\n",
      "1    3\n",
      "2    5\n",
      "Name: Name, dtype: int64\n",
      "   ID     Name Sex  name_length\n",
      "0   1  charlie   男            7\n",
      "1   2      tom   男            3\n",
      "2   3    alien   女            5\n",
      "   ID     Name Sex  NL\n",
      "0   1  charlie   男   7\n",
      "1   2      tom   男   3\n",
      "2   3    alien   女   5\n",
      "   ID     Name Sex\n",
      "0   1  charlie   男\n",
      "1   2      tom   男\n",
      "2   3    alien   女\n"
     ]
    }
   ],
   "execution_count": 20
  },
  {
   "metadata": {},
   "cell_type": "markdown",
   "source": [
    "### ***注意***\n",
    "\n",
    "每次当你使用pandas的时候，pandas都会为你创建一个副本，也就是说如果你不进行赋值，你之前的df是不会进行改变的。特别是删除一列的时候\n",
    "\n",
    "## 继续学习函数\n",
    "\n",
    "### .shape()和.size()\n",
    ".shape()返回的是一个df或者series的行数和列数\n",
    ".size()返回的是你的df的行数*列数"
   ],
   "id": "7ea24bc77ce7a5ed"
  },
  {
   "metadata": {
    "ExecuteTime": {
     "end_time": "2024-09-20T12:02:31.877187Z",
     "start_time": "2024-09-20T12:02:31.871744Z"
    }
   },
   "cell_type": "code",
   "source": [
    "import pandas as pd\n",
    "\n",
    "s1=pd.Series([1,2,3])\n",
    "\n",
    "s2=pd.Series([\"charlie\",\"tom\",\"alien\"])\n",
    "\n",
    "s3=pd.Series([\"男\",\"男\",\"女\"])\n",
    "\n",
    "dataframe1=pd.DataFrame({\"ID\":s1,\"Name\":s2,\"Sex\":s3})\n",
    "# 这个函数是获取df中Name列中各个值的长度，并形成一个series\n",
    "name_length=dataframe1[\"Name\"].str.len()\n",
    "dataframe1[\"name_length\"]=name_length\n",
    "print(dataframe1)\n",
    "print(dataframe1.shape)\n",
    "print(dataframe1.size)"
   ],
   "id": "962a2ce606303514",
   "outputs": [
    {
     "name": "stdout",
     "output_type": "stream",
     "text": [
      "   ID     Name Sex\n",
      "0   1  charlie   男\n",
      "1   2      tom   男\n",
      "2   3    alien   女\n",
      "(3, 3)\n",
      "9\n"
     ]
    }
   ],
   "execution_count": 23
  },
  {
   "metadata": {},
   "cell_type": "markdown",
   "source": [
    "### .describe()方法\n",
    "\n",
    "给的是一个df,df中包含你数据中的很多特征，比如中间值，或者最大值等等，因为我这里没有现成的数据所以这里不进行演示，它不止适用于df还适用于series\n",
    "\n",
    "###  .sample()方法\n",
    "\n",
    "在你的df中随机取出一个来当做你的sample，下面是例子"
   ],
   "id": "45d47536ae1f7123"
  },
  {
   "metadata": {
    "ExecuteTime": {
     "end_time": "2024-09-20T12:08:57.411190Z",
     "start_time": "2024-09-20T12:08:57.399098Z"
    }
   },
   "cell_type": "code",
   "source": [
    "import pandas as pd\n",
    "\n",
    "s1=pd.Series([1,2,3])\n",
    "\n",
    "s2=pd.Series([\"charlie\",\"tom\",\"alien\"])\n",
    "\n",
    "s3=pd.Series([\"男\",\"男\",\"女\"])\n",
    "\n",
    "dataframe1=pd.DataFrame({\"ID\":s1,\"Name\":s2,\"Sex\":s3})\n",
    "\n",
    "# 这个函数是获取df中Name列中各个值的长度，并形成一个series\n",
    "name_length=dataframe1[\"Name\"].str.len()\n",
    "dataframe1[\"name_length\"]=name_length\n",
    "# 单个\n",
    "print(dataframe1.sample())\n",
    "\n",
    "# 多个\n",
    "print(dataframe1.sample(2).iloc[:,:])\n",
    "\n"
   ],
   "id": "b7617d1bcb04a389",
   "outputs": [
    {
     "name": "stdout",
     "output_type": "stream",
     "text": [
      "   ID     Name Sex  name_length\n",
      "0   1  charlie   男            7\n",
      "   ID   Name Sex  name_length\n",
      "1   2    tom   男            3\n",
      "2   3  alien   女            5\n"
     ]
    }
   ],
   "execution_count": 24
  },
  {
   "metadata": {},
   "cell_type": "markdown",
   "source": [
    "### .value_counts()\n",
    "\n",
    "新建一个df,统计所给列中相同的值出现的次数\n",
    "\n",
    "### .unique()\n",
    "\n",
    "这个是定义在series上的，返回一个数组，其中包含所给列中只有一个的值\n",
    "\n",
    "### .sort_values()\n",
    "\n",
    "对所给的df进行排序"
   ],
   "id": "c72fd62a64502110"
  },
  {
   "metadata": {
    "ExecuteTime": {
     "end_time": "2024-09-20T12:15:27.161878Z",
     "start_time": "2024-09-20T12:15:27.153859Z"
    }
   },
   "cell_type": "code",
   "source": [
    "import pandas as pd\n",
    "\n",
    "s1=pd.Series([1,2,3])\n",
    "\n",
    "s2=pd.Series([\"charlie\",\"tom\",\"alien\"])\n",
    "\n",
    "s3=pd.Series([\"男\",\"男\",\"女\"])\n",
    "\n",
    "s4=pd.Series([100,12,65])\n",
    "\n",
    "dataframe1=pd.DataFrame({\"ID\":s1,\"Name\":s2,\"Sex\":s3,\"Grade\":s4})\n",
    "\n",
    "# 这个函数是获取df中Name列中各个值的长度，并形成一个series\n",
    "name_length=dataframe1[\"Name\"].str.len()\n",
    "dataframe1[\"name_length\"]=name_length\n",
    "\n",
    "print(dataframe1.value_counts())\n",
    "\n",
    "print(dataframe1[\"Name\"].unique())\n",
    "\n",
    "print(dataframe1.sort_values(by = \"Grade\"))\n"
   ],
   "id": "f72982a39561a349",
   "outputs": [
    {
     "name": "stdout",
     "output_type": "stream",
     "text": [
      "ID  Name     Sex  Grade  name_length\n",
      "1   charlie  男    100    7              1\n",
      "2   tom      男    12     3              1\n",
      "3   alien    女    65     5              1\n",
      "Name: count, dtype: int64\n",
      "['charlie' 'tom' 'alien']\n",
      "   ID     Name Sex  Grade  name_length\n",
      "1   2      tom   男     12            3\n",
      "2   3    alien   女     65            5\n",
      "0   1  charlie   男    100            7\n"
     ]
    }
   ],
   "execution_count": 26
  }
 ],
 "metadata": {
  "kernelspec": {
   "display_name": "Python 3",
   "language": "python",
   "name": "python3"
  },
  "language_info": {
   "codemirror_mode": {
    "name": "ipython",
    "version": 2
   },
   "file_extension": ".py",
   "mimetype": "text/x-python",
   "name": "python",
   "nbconvert_exporter": "python",
   "pygments_lexer": "ipython2",
   "version": "2.7.6"
  }
 },
 "nbformat": 4,
 "nbformat_minor": 5
}
